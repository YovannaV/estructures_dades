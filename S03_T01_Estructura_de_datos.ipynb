{
 "cells": [
  {
   "cell_type": "markdown",
   "id": "b38674a3",
   "metadata": {},
   "source": [
    "# Estructura de datos"
   ]
  },
  {
   "cell_type": "markdown",
   "id": "958f8303",
   "metadata": {},
   "source": [
    "### Ejercicio 1\n",
    "Crea una lista que agrupe los meses del año en trimestres (1T: Enero, Febrero y Marzo, 2T: Abril, Mayo, Junio...), es decir, una lista con 4 listas dentro."
   ]
  },
  {
   "cell_type": "code",
   "execution_count": 9,
   "id": "f338eab6",
   "metadata": {},
   "outputs": [],
   "source": [
    "#Primero se crea una lista de listas separando de los meses por trimestre mediante corchetes:\n",
    "lista_Trimestres = [['Enero', 'Febrero', 'Marzo'], \n",
    "                    ['Abril', 'Mayo', 'Junio'], \n",
    "                    ['Julio', 'Agosto', 'Septiembre'], \n",
    "                    ['Octubre', 'Noviembre', 'Diciembre']]"
   ]
  },
  {
   "cell_type": "markdown",
   "id": "059e97af",
   "metadata": {},
   "source": [
    "### Ejercicio 2\n",
    "Crea un código que te permita acceder a:\n",
    "* 1.El segundo mes del primer trimestre\n",
    "* 2.Los meses del primer trimestre\n",
    "* 3.Septiembre y octubre\n",
    "___"
   ]
  },
  {
   "cell_type": "markdown",
   "id": "61026daf",
   "metadata": {},
   "source": [
    "**Para acceder al segundo mes del primer trimestre e imprimirlo, se selecciona primero el primer trimestre que corresponde al index 0 y despues se accede al segundo elemento de la lista llamando al index 1:**"
   ]
  },
  {
   "cell_type": "code",
   "execution_count": 10,
   "id": "e50c8985",
   "metadata": {},
   "outputs": [
    {
     "name": "stdout",
     "output_type": "stream",
     "text": [
      "Febrero\n"
     ]
    }
   ],
   "source": [
    "print(lista_Trimestres[0][1])"
   ]
  },
  {
   "cell_type": "markdown",
   "id": "1b930fa3",
   "metadata": {},
   "source": [
    "**De igual manera, para acceder a la lista correspondiente al primer trimestre, se selecciona la ubicacion del primer trimestre (ubicado en el index 0) y se seleccionan todos los elementos de la lista utilizando \":\"**"
   ]
  },
  {
   "cell_type": "code",
   "execution_count": 11,
   "id": "2af3180f",
   "metadata": {},
   "outputs": [
    {
     "name": "stdout",
     "output_type": "stream",
     "text": [
      "['Enero', 'Febrero', 'Marzo']\n"
     ]
    }
   ],
   "source": [
    "print(lista_Trimestres[0][:])"
   ]
  },
  {
   "cell_type": "markdown",
   "id": "e2a56d21",
   "metadata": {},
   "source": [
    "**Para conocer la ubicacion del mes que se requiere en la lista, se busca mediante el metodo get_index que buscara el mes (String) del mes requerido dentro de la lista:**"
   ]
  },
  {
   "cell_type": "code",
   "execution_count": 31,
   "id": "453ff549",
   "metadata": {},
   "outputs": [
    {
     "name": "stdout",
     "output_type": "stream",
     "text": [
      "(2, 2)\n"
     ]
    }
   ],
   "source": [
    "print (get_index(lista_Trimestres, \"Septiembre\"))"
   ]
  },
  {
   "cell_type": "code",
   "execution_count": 32,
   "id": "ee1e0bc5",
   "metadata": {},
   "outputs": [
    {
     "name": "stdout",
     "output_type": "stream",
     "text": [
      "(3, 0)\n"
     ]
    }
   ],
   "source": [
    "print (get_index(lista_Trimestres, \"Octubre\"))"
   ]
  },
  {
   "cell_type": "markdown",
   "id": "28555eeb",
   "metadata": {},
   "source": [
    "**Y con las ubicaciones (index) obtenidas para cada mes, se imprimen los elementos de la lista correspondientes a los meses:**"
   ]
  },
  {
   "cell_type": "code",
   "execution_count": 16,
   "id": "0f7a5712",
   "metadata": {},
   "outputs": [
    {
     "name": "stdout",
     "output_type": "stream",
     "text": [
      "Septiembre y Octubre\n"
     ]
    }
   ],
   "source": [
    "print ((lista_Trimestres[2][2]) +' y '+ (lista_Trimestres[3][0]))"
   ]
  },
  {
   "cell_type": "markdown",
   "id": "24ba89d4",
   "metadata": {},
   "source": [
    "### Ejercicio 3\n",
    "Crea una lista con números desordenados y responde a las siguientes preguntas:\n",
    "\n",
    "* ¿Cuántos números hay?\n",
    "* ¿Cuántas veces aparece el número 3\n",
    "* ¿Cuántas veces aparecen los números 3 y 4?\n",
    "* ¿Cuál es el mayor número?\n",
    "* ¿Cuáles son los 3 números más pequeños?\n",
    "* ¿Cuál es el rango de esa lista?"
   ]
  },
  {
   "cell_type": "markdown",
   "id": "78cdc922",
   "metadata": {},
   "source": [
    "**Primero se crea una lista sencilla de numeros**"
   ]
  },
  {
   "cell_type": "code",
   "execution_count": 2,
   "id": "0fe29417",
   "metadata": {},
   "outputs": [],
   "source": [
    "lista_numeros= [1, 5, 3, 8, 1, 3, 7, 8, 7, 5, 4, 6, 8, 5]"
   ]
  },
  {
   "cell_type": "markdown",
   "id": "ca967f1b",
   "metadata": {},
   "source": [
    "**Para responder a la pregunta de cuantos numeros tiene la lista, se utiliza la funcion len que nos brinda la longitud de la lista:**"
   ]
  },
  {
   "cell_type": "code",
   "execution_count": 53,
   "id": "3bbea459",
   "metadata": {},
   "outputs": [
    {
     "name": "stdout",
     "output_type": "stream",
     "text": [
      "La lista tiene 14 numeros\n"
     ]
    }
   ],
   "source": [
    "print('La lista tiene',len(lista_numeros),'numeros')"
   ]
  },
  {
   "cell_type": "markdown",
   "id": "2801d28c",
   "metadata": {},
   "source": [
    "**Para responder la pregunta de cuantas veces aparece un numero en la lista, se utiliza el metodo count, que recorre la lista y nos arroja la cantidad de veces que se encuentra el numero buscado**"
   ]
  },
  {
   "cell_type": "code",
   "execution_count": 4,
   "id": "f8b1b77c",
   "metadata": {},
   "outputs": [
    {
     "name": "stdout",
     "output_type": "stream",
     "text": [
      "2\n"
     ]
    }
   ],
   "source": [
    "print(lista_numeros.count(3))"
   ]
  },
  {
   "cell_type": "markdown",
   "id": "5386050d",
   "metadata": {},
   "source": [
    "**el resultado de cuantas veces se encuentran los numeros 3 y 4, se obtuvo mediante una suma de los valores resultantes del metodo count de cada numero.**"
   ]
  },
  {
   "cell_type": "code",
   "execution_count": 6,
   "id": "84c65d3c",
   "metadata": {},
   "outputs": [
    {
     "name": "stdout",
     "output_type": "stream",
     "text": [
      "3\n"
     ]
    }
   ],
   "source": [
    "print(lista_numeros.count(3) + lista_numeros.count(4))"
   ]
  },
  {
   "cell_type": "markdown",
   "id": "77a8c437",
   "metadata": {},
   "source": [
    "**El numero maximo de la lista se obtuvo mediante la funcion 'max', la cual itera en la lista en busqueda del resultado mas alto**"
   ]
  },
  {
   "cell_type": "code",
   "execution_count": 5,
   "id": "01116f9f",
   "metadata": {},
   "outputs": [
    {
     "name": "stdout",
     "output_type": "stream",
     "text": [
      "8\n"
     ]
    }
   ],
   "source": [
    "print(max(lista_numeros))"
   ]
  },
  {
   "cell_type": "markdown",
   "id": "e0d06c65",
   "metadata": {},
   "source": [
    "**Para obtener los valores mas pequeños de la lista, primero se utilizo el metodo 'sort' que ordena la lista de menor a mayor, y despues se imprimieron los primeros tres valores**"
   ]
  },
  {
   "cell_type": "code",
   "execution_count": 8,
   "id": "ace5e9b8",
   "metadata": {},
   "outputs": [
    {
     "name": "stdout",
     "output_type": "stream",
     "text": [
      "[1, 1, 3]\n"
     ]
    }
   ],
   "source": [
    "lista_numeros.sort()\n",
    "print(lista_numeros[:3])"
   ]
  },
  {
   "cell_type": "markdown",
   "id": "fab80696",
   "metadata": {},
   "source": [
    "**Por ultimo, para conocer el rango de los valores de la lista se obtuvo restando el valor minimo y maximo haciendo uso de las funciones 'max' y 'min' para obtener dichos datos de la lista.**"
   ]
  },
  {
   "cell_type": "code",
   "execution_count": 56,
   "id": "da785eec",
   "metadata": {},
   "outputs": [
    {
     "name": "stdout",
     "output_type": "stream",
     "text": [
      "El rango de valores de la lista es 7\n"
     ]
    }
   ],
   "source": [
    "print('El rango de valores de la lista es', max(lista_numeros)- min(lista_numeros))"
   ]
  },
  {
   "cell_type": "markdown",
   "id": "e80c33f8",
   "metadata": {},
   "source": [
    "### Ejercicio 4\n",
    "Crea un diccionario de la siguiente forma y responde a las preguntas:\n",
    "\n",
    "*compra = { \"Manzanas\" : {\"Qty\": 5, \"€\": 0.42}, \"Peras\" : {\"Qty\": 3, \"€\": 0.66} }*\n",
    "\n",
    "Añade alguna fruta más\n",
    "* ¿Cuánto han costado las peras en total?\n",
    "* ¿Cuántas frutas hemos comprado en total?\n",
    "* ¿Cuál es la fruta más cara?"
   ]
  },
  {
   "cell_type": "markdown",
   "id": "7fe52e0e",
   "metadata": {},
   "source": [
    "**Primero se crea el diccionario de acuerdo a lo indicado en el ejercicio (nested dictionary)**"
   ]
  },
  {
   "cell_type": "code",
   "execution_count": 17,
   "id": "e861c748",
   "metadata": {},
   "outputs": [],
   "source": [
    "compra = { \"Manzanas\" : {\"Qty\": 5, \"€\": 0.42}, \"Peras\" : {\"Qty\": 3, \"€\": 0.66} }"
   ]
  },
  {
   "cell_type": "markdown",
   "id": "a2624da3",
   "metadata": {},
   "source": [
    "**Se agregan un par de frutas mas siguiendo la organizacion inicial del diccionario y se imprime para ver los cambios reflejados**"
   ]
  },
  {
   "cell_type": "code",
   "execution_count": 25,
   "id": "5b184db8",
   "metadata": {},
   "outputs": [
    {
     "name": "stdout",
     "output_type": "stream",
     "text": [
      "{'Manzanas': {'Qty': 5, '€': 0.42}, 'Peras': {'Qty': 3, '€': 0.66}, 'Naranjas': {'Qty': 4, '€': 0.5}, 'Platanos': {'Qty': 8, '€': 0.36}}\n"
     ]
    }
   ],
   "source": [
    "compra[\"Naranjas\"] = {\"Qty\": 4, \"€\": 0.50}\n",
    "compra[\"Platanos\"] = {\"Qty\": 8, \"€\": 0.36}\n",
    "print(compra)"
   ]
  },
  {
   "cell_type": "markdown",
   "id": "ced31af0",
   "metadata": {},
   "source": [
    "**Para conocer el coste total de las peras, primero como medida de precaucion se creo un loop if para confirmar que tengamos peras en la compra, despues se creo una variable con el costo de las peras y dentro de esa variable se multiplico la cantidad por el costo en euros, para hacer eso simplemente se accedio a cada variable:**"
   ]
  },
  {
   "cell_type": "code",
   "execution_count": 45,
   "id": "010ef01f",
   "metadata": {
    "scrolled": true
   },
   "outputs": [
    {
     "name": "stdout",
     "output_type": "stream",
     "text": [
      "El costo total de las Peras es 1.98\n"
     ]
    }
   ],
   "source": [
    "if 'Peras' in compra:\n",
    "    costo_peras= compra[\"Peras\"][\"Qty\"] * compra[\"Peras\"][\"€\"]\n",
    "    print('El costo total de las Peras es', costo_peras)"
   ]
  },
  {
   "cell_type": "markdown",
   "id": "6bf7efb7",
   "metadata": {},
   "source": [
    "**Para conocer la cantidad total de frutas compradas, se creo una variable para guardar el resultado llamada 'total_frutas', a la cual se le asigno el valor de la suma de las cantidades de 'Qty' indexadas en el diccionario de cada fruta, para lo cual se utilizo dentro de la funcion 'sum' un 'for loop' para iterar entre todas las frutas del diccionario y acceder a sus valores con el metodo 'values' del diccionario, para finalmente sumarlos .**"
   ]
  },
  {
   "cell_type": "code",
   "execution_count": 52,
   "id": "380b170f",
   "metadata": {},
   "outputs": [
    {
     "name": "stdout",
     "output_type": "stream",
     "text": [
      "20\n"
     ]
    }
   ],
   "source": [
    "total_frutas = sum(d['Qty'] for d in compra.values() if d)\n",
    "print(total_frutas)"
   ]
  },
  {
   "cell_type": "markdown",
   "id": "0bcbf6de",
   "metadata": {},
   "source": [
    "**Por ultimo, para conocer cual es la fruta mas cara de la compra, se utilizo la funcion 'max' para buscar el diccionario asociado con el valor maximo dentro del diccionario principal**"
   ]
  },
  {
   "cell_type": "code",
   "execution_count": 44,
   "id": "2edfe873",
   "metadata": {},
   "outputs": [
    {
     "name": "stdout",
     "output_type": "stream",
     "text": [
      "Las frutas mas caras son: Peras\n"
     ]
    }
   ],
   "source": [
    "print('Las frutas mas caras son:', (max(compra, key=lambda v: compra[v]['€'])))"
   ]
  }
 ],
 "metadata": {
  "kernelspec": {
   "display_name": "Python 3",
   "language": "python",
   "name": "python3"
  },
  "language_info": {
   "codemirror_mode": {
    "name": "ipython",
    "version": 3
   },
   "file_extension": ".py",
   "mimetype": "text/x-python",
   "name": "python",
   "nbconvert_exporter": "python",
   "pygments_lexer": "ipython3",
   "version": "3.8.8"
  }
 },
 "nbformat": 4,
 "nbformat_minor": 5
}
